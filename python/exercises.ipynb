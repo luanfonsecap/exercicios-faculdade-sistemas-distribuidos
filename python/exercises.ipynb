{
  "cells": [
    {
      "cell_type": "markdown",
      "metadata": {
        "id": "_q7DiXeu-JlF"
      },
      "source": [
        "# Exercícios"
      ]
    },
    {
      "cell_type": "markdown",
      "metadata": {
        "id": "uLpmKtAq-JlJ"
      },
      "source": [
        "1. Escreva um algoritmo que imprima na tela: Olá Mundo!"
      ]
    },
    {
      "cell_type": "code",
      "execution_count": 1,
      "metadata": {
        "colab": {
          "base_uri": "https://localhost:8080/"
        },
        "id": "2_U9rFch-JlJ",
        "outputId": "86085ea5-7264-4f19-e316-304d628d5d37"
      },
      "outputs": [
        {
          "name": "stdout",
          "output_type": "stream",
          "text": [
            "Olá Mundo!\n"
          ]
        }
      ],
      "source": [
        "print('Olá Mundo!')"
      ]
    },
    {
      "cell_type": "markdown",
      "metadata": {
        "id": "KlVkrkLP-JlK"
      },
      "source": [
        "2. Escreva um programa que imprima seu nome na tela."
      ]
    },
    {
      "cell_type": "code",
      "execution_count": 3,
      "metadata": {
        "colab": {
          "base_uri": "https://localhost:8080/"
        },
        "id": "Rw3y6H3W-JlK",
        "outputId": "d14225e6-5803-4211-a45e-913aba5da198"
      },
      "outputs": [
        {
          "name": "stdout",
          "output_type": "stream",
          "text": [
            "Digite seu nome\n",
            "Seu nome é: Luan Fonseca\n"
          ]
        }
      ],
      "source": [
        "print('Digite seu nome')\n",
        "nome = input()\n",
        "print('Seu nome é: ' + nome)"
      ]
    },
    {
      "cell_type": "markdown",
      "metadata": {
        "id": "UbQaMYk8-JlK"
      },
      "source": [
        "3. O que o código a seguir imprime?\n",
        "\n",
        "```python\n",
        "print(\"*\\n**\\n***\\n****\\n*****\")\n",
        "```"
      ]
    },
    {
      "cell_type": "code",
      "execution_count": null,
      "metadata": {
        "colab": {
          "base_uri": "https://localhost:8080/"
        },
        "id": "0PZWGlX_-JlL",
        "outputId": "8a3cc038-7825-4730-bc61-6dc0c95b4647"
      },
      "outputs": [
        {
          "name": "stdout",
          "output_type": "stream",
          "text": [
            "*\n",
            "**\n",
            "***\n",
            "****\n",
            "*****\n"
          ]
        }
      ],
      "source": [
        "print(\"*\\n**\\n***\\n****\\n*****\")"
      ]
    },
    {
      "cell_type": "markdown",
      "metadata": {
        "id": "o3_FiZNN-JlL"
      },
      "source": [
        "4. O que aparece na janela do console, quando cada uma das instruções abaixo são executadas, para: x = 2 e y = 3? Execute cada uma das linhas abaixos e, se necessário, faça os devidos ajustes no código.\n",
        "    1. *print(“x = ” + x);*\n",
        "    2. *print(“O valor de x + x é ” + (x + x));*\n",
        "    3. *print(“x = ”);*\n",
        "    4. *print((x + y) + “ = “ + (y + x));*\n"
      ]
    },
    {
      "cell_type": "code",
      "execution_count": 7,
      "metadata": {
        "colab": {
          "base_uri": "https://localhost:8080/"
        },
        "id": "Wk3YVJPi-JlM",
        "outputId": "8caf8f6d-881c-4363-9a99-4a0af5ff3e98"
      },
      "outputs": [
        {
          "name": "stdout",
          "output_type": "stream",
          "text": [
            "x = 2\n",
            "O valor de x + x é 4\n",
            "x = \n",
            "5 = 5\n"
          ]
        }
      ],
      "source": [
        "x = 2\n",
        "y = 3\n",
        "print('x = '+ str(x))\n",
        "print(\"O valor de x + x é \" + str((x + x)))\n",
        "print(\"x = \")\n",
        "print(str(x+y) +' = '+str((y+x)))\n"
      ]
    },
    {
      "cell_type": "markdown",
      "metadata": {
        "id": "YqFjr9xJ-JlM"
      },
      "source": [
        "5. Escreva um algoritmo que imprima na tela a seguinte mensagem:\n",
        "\n",
        "> A programação é aprendida escrevendo programas - \n",
        "> Brian Kernighan\n"
      ]
    },
    {
      "cell_type": "code",
      "execution_count": null,
      "metadata": {
        "colab": {
          "base_uri": "https://localhost:8080/"
        },
        "id": "fGV0R8qY-JlN",
        "outputId": "d57cf034-6c60-4f7f-e8cb-efd3b0db34d3"
      },
      "outputs": [
        {
          "name": "stdout",
          "output_type": "stream",
          "text": [
            "A programação é aprendida escrevendo programas - Brian Kernighan\n"
          ]
        }
      ],
      "source": [
        "print('A programação é aprendida escrevendo programas - Brian Kernighan')"
      ]
    },
    {
      "cell_type": "markdown",
      "metadata": {
        "id": "SyS3acyM-JlN"
      },
      "source": [
        "6. Crie um algoritmo que imprima o produto entre os números 25 e 27"
      ]
    },
    {
      "cell_type": "code",
      "execution_count": null,
      "metadata": {
        "colab": {
          "base_uri": "https://localhost:8080/"
        },
        "id": "ushl2Y8J-JlN",
        "outputId": "df9c578b-a460-4b76-dc75-cf45e4707f22"
      },
      "outputs": [
        {
          "name": "stdout",
          "output_type": "stream",
          "text": [
            "675\n"
          ]
        }
      ],
      "source": [
        "print(25 * 27)"
      ]
    },
    {
      "cell_type": "markdown",
      "metadata": {
        "id": "SxJWk9CJ-JlO"
      },
      "source": [
        "7. Crie um algoritmo que imprima a média aritmética entre os números 4, 12, 15."
      ]
    },
    {
      "cell_type": "code",
      "execution_count": 7,
      "metadata": {
        "colab": {
          "base_uri": "https://localhost:8080/"
        },
        "id": "t1kESxMx-JlO",
        "outputId": "1efb21ee-3984-49f6-dd47-00de8aa6e9e7"
      },
      "outputs": [
        {
          "name": "stdout",
          "output_type": "stream",
          "text": [
            "Média: 2.0\n"
          ]
        }
      ],
      "source": [
        "numbers = [1,2,3]\n",
        "sum = 0\n",
        "for n in numbers:\n",
        "  sum += n\n",
        "average = sum / len(numbers)\n",
        "\n",
        "print(\"Média: \" + str(average))"
      ]
    },
    {
      "cell_type": "markdown",
      "metadata": {
        "id": "23QDgq8q-JlO"
      },
      "source": [
        "8. Faça um programa que leia um número inteiro e mostre-o na tela da seguinte forma: \n",
        "\n",
        "> O número inteiro digitado foi 4."
      ]
    },
    {
      "cell_type": "code",
      "execution_count": null,
      "metadata": {
        "colab": {
          "base_uri": "https://localhost:8080/"
        },
        "id": "zIRWzooj-JlO",
        "outputId": "0d9abfd9-6291-425c-d790-889047919ac5"
      },
      "outputs": [
        {
          "name": "stdout",
          "output_type": "stream",
          "text": [
            "Digite um número: \n",
            "4\n",
            "O número digitado foi 4\n"
          ]
        }
      ],
      "source": [
        "print('Digite um número: ')\n",
        "number = input()\n",
        "print('O número digitado foi ' +str(number))"
      ]
    },
    {
      "cell_type": "markdown",
      "metadata": {
        "id": "Qm4qYXMB-JlO"
      },
      "source": [
        "9. Faça um programa que leia e imprima dois números inteiros na tela."
      ]
    },
    {
      "cell_type": "code",
      "execution_count": null,
      "metadata": {
        "colab": {
          "base_uri": "https://localhost:8080/"
        },
        "id": "V2UWTwoM-JlO",
        "outputId": "5ab91b03-00b2-4cf3-ee08-61ef8813841d"
      },
      "outputs": [
        {
          "name": "stdout",
          "output_type": "stream",
          "text": [
            "Digite um número: \n",
            "2\n",
            "Digite outro número: \n",
            "3\n",
            "Os números digitados foram 2e3\n"
          ]
        }
      ],
      "source": [
        "print('Digite um número: ')\n",
        "number1 = input()\n",
        "print('Digite outro número: ')\n",
        "number2 = input()\n",
        "\n",
        "print('Os números digitados foram ' +str(number1) + ' e ' + str(number2))"
      ]
    },
    {
      "cell_type": "markdown",
      "metadata": {
        "id": "TTr9CXo4-JlP"
      },
      "source": [
        "10. Faça um programa que leia um número inteiro e imprima seu número sucessor e antecessor."
      ]
    },
    {
      "cell_type": "code",
      "execution_count": 8,
      "metadata": {
        "colab": {
          "base_uri": "https://localhost:8080/"
        },
        "id": "7g2EM_jz-JlP",
        "outputId": "d22faa1b-ac0d-43f5-c22d-34e6e085d9b3"
      },
      "outputs": [
        {
          "name": "stdout",
          "output_type": "stream",
          "text": [
            "Digite um número: \n",
            "Antecessor: 5 Sucessor: 7\n"
          ]
        }
      ],
      "source": [
        "print('Digite um número: ')\n",
        "number = input();\n",
        "previous = int(number) - 1\n",
        "next = int(number) + 1\n",
        "print('Antecessor: ' +str(previous) + ' Sucessor: ' +str(next))\n"
      ]
    },
    {
      "cell_type": "markdown",
      "metadata": {
        "id": "--Nnhy2v-JlP"
      },
      "source": [
        "11. Faça um programa que leia o nome, endereço e telefone de um usuário e imprima na tela."
      ]
    },
    {
      "cell_type": "code",
      "execution_count": 9,
      "metadata": {
        "colab": {
          "base_uri": "https://localhost:8080/"
        },
        "id": "GRhVyDsX-JlP",
        "outputId": "7be5f435-6472-474d-e4f8-bd26a82f6479"
      },
      "outputs": [
        {
          "name": "stdout",
          "output_type": "stream",
          "text": [
            "Informe seu nome: \n",
            "Informe seu endereço: \n",
            "Informe seu telefone: \n",
            "Nome: Luan\n",
            "Endereço: Guajajaras\n",
            "Telefone: 99999999\n"
          ]
        }
      ],
      "source": [
        "print(\"Informe seu nome: \")\n",
        "name = input()\n",
        "print('Informe seu endereço: ')\n",
        "address = input()\n",
        "print('Informe seu telefone: ')\n",
        "phone = input()\n",
        "\n",
        "print('Nome: ' + name + '\\n' + 'Endereço: ' + address + '\\n' + 'Telefone: ' + phone )"
      ]
    },
    {
      "cell_type": "markdown",
      "metadata": {
        "id": "fELMt-vI-JlP"
      },
      "source": [
        "12. Faça um programa que leia e multiplique dois números inteiros."
      ]
    },
    {
      "cell_type": "code",
      "execution_count": 10,
      "metadata": {
        "colab": {
          "base_uri": "https://localhost:8080/"
        },
        "id": "CdVFu4pw-JlP",
        "outputId": "a044bca5-5672-4634-a12d-a3c8b84fccb3"
      },
      "outputs": [
        {
          "name": "stdout",
          "output_type": "stream",
          "text": [
            "Informe o primeiro número: \n",
            "Informe o segundo número: \n",
            "O resultado da multiplicação é : 600\n"
          ]
        }
      ],
      "source": [
        "print('Informe o primeiro número: ')\n",
        "number1 = int(input())\n",
        "print('Informe o segundo número: ')\n",
        "number2 = int(input())\n",
        "result = number1 * number2\n",
        "print('O resultado da multiplicação é : ' + str(result))"
      ]
    },
    {
      "cell_type": "markdown",
      "metadata": {
        "id": "NvxFFp_T-JlP"
      },
      "source": [
        "13. Faça um programa que leia um número real e imprima a terça parte deste número."
      ]
    },
    {
      "cell_type": "code",
      "execution_count": 11,
      "metadata": {
        "colab": {
          "base_uri": "https://localhost:8080/"
        },
        "id": "yJwUaeK_-JlP",
        "outputId": "fa30fa5c-f295-40c5-eaf7-218a463d3b54"
      },
      "outputs": [
        {
          "name": "stdout",
          "output_type": "stream",
          "text": [
            "informe um número\n",
            "Terça parte: 1.3333333333333333\n"
          ]
        }
      ],
      "source": [
        "print(\"informe um número\")\n",
        "number1 = float(input())\n",
        "result = number1 / 3\n",
        "print('Terça parte: ' + str (result))"
      ]
    },
    {
      "cell_type": "markdown",
      "metadata": {
        "id": "pW-l1Rif-JlQ"
      },
      "source": [
        "14. Faça um programa que leia dois números inteiros e imprima o dividendo, divisor, quociente e resto da divisão"
      ]
    },
    {
      "cell_type": "code",
      "execution_count": null,
      "metadata": {
        "colab": {
          "base_uri": "https://localhost:8080/"
        },
        "id": "UvMU8Sv6-JlQ",
        "outputId": "bdff01e8-daea-40bd-b759-b8c27e3eb1d6"
      },
      "outputs": [
        {
          "name": "stdout",
          "output_type": "stream",
          "text": [
            "Informe um número: \n",
            "9\n",
            "Informe outro número: \n",
            "2\n",
            "Dividendo 9.0\n",
            "Divisor 2.0\n",
            "Quociente 4.0\n",
            "Resto 1.0\n"
          ]
        }
      ],
      "source": [
        "import sys\n",
        "\n",
        "def divide(num1, num2):\n",
        "  if num1 == 0 or num2 == 0:\n",
        "    print('Nenhum número é divisível por 0, o programa será encerrado')\n",
        "    sys.exit()\n",
        "\n",
        "  dict = {\n",
        "      \"Dividendo:\" : num1,\n",
        "      \"Divisor:\" : num2,\n",
        "      \"Quociente:\" : num1 // num2,\n",
        "      \"Resto:\"   : num1 % num2\n",
        "  }\n",
        "  return dict\n",
        "\n",
        "print('Informe um número: ')\n",
        "number1 = float(input())\n",
        "\n",
        "print('Informe outro número: ')\n",
        "number2 = float(input())\n",
        "\n",
        "dict = divide(number1,number2)\n",
        "\n",
        "for key, value in dict.items():\n",
        "    print(key, value)\n"
      ]
    },
    {
      "cell_type": "markdown",
      "metadata": {
        "id": "DVRtMtCQ-JlQ"
      },
      "source": [
        "15. Escreva um programa que solicite do usuário dois números, e imprima o resultado da soma, subtração, multiplicação e divisão."
      ]
    },
    {
      "cell_type": "code",
      "execution_count": null,
      "metadata": {
        "colab": {
          "base_uri": "https://localhost:8080/"
        },
        "id": "MxHzbHxa-JlQ",
        "outputId": "7d83f483-e668-42bf-c4bc-2eb6b8a24b9b"
      },
      "outputs": [
        {
          "name": "stdout",
          "output_type": "stream",
          "text": [
            "Informe um número: \n",
            "10\n",
            "Informe outro número: \n",
            "0\n",
            "Subtração: 10.0\n",
            "Soma: 10.0\n",
            "Multiplicação: 0.0\n",
            "Divisão: Nenhum número é divisível por 0, o programa será encerrado\n"
          ]
        }
      ],
      "source": [
        "import sys\n",
        "\n",
        "def subtract(num1, num2):\n",
        "  return num1 - num2\n",
        "def sum(num1, num2):\n",
        "  return num1 + num2\n",
        "def multiply(num1, num2):\n",
        "  return num1 * num2\n",
        "def divide(num1, num2):\n",
        " if num1 == 0 or num2 == 0:\n",
        "    return ('Nenhum número é divisível por 0, o programa será encerrado')\n",
        " return num1 / num2\n",
        "\n",
        "\n",
        "print('Informe um número: ')\n",
        "number1 = float(input())\n",
        "\n",
        "print('Informe outro número: ')\n",
        "number2 = float(input())\n",
        "\n",
        "dict = {\n",
        "    'Subtração:' : subtract(number1, number2),\n",
        "    'Soma:' : sum(number1, number2),\n",
        "    'Multiplicação:' : multiply(number1, number2),\n",
        "    'Divisão:' : divide(number1, number2)\n",
        "}\n",
        "\n",
        "\n",
        "for key, value in dict.items():\n",
        "\n",
        "    print(key, value)\n"
      ]
    },
    {
      "cell_type": "markdown",
      "metadata": {
        "id": "mUG3IPFp-JlQ"
      },
      "source": [
        "16. Faça um programa que leia quatro números inteiros, calcule e mostre a soma desses números."
      ]
    },
    {
      "cell_type": "code",
      "execution_count": null,
      "metadata": {
        "colab": {
          "base_uri": "https://localhost:8080/"
        },
        "id": "Zd-OtD8I-JlQ",
        "outputId": "36e90613-2d6c-4b99-f51d-af740448eed6"
      },
      "outputs": [
        {
          "name": "stdout",
          "output_type": "stream",
          "text": [
            "Informe o primeiro número: \n",
            "2\n",
            "Informe o segundo número: \n",
            "2\n",
            "Informe o terceiro número: \n",
            "2\n",
            "Informe o quarto número: \n",
            "2\n",
            "O resultado da soma dos números é :  8\n"
          ]
        }
      ],
      "source": [
        "def sum(num1, num2, num3, num4):\n",
        "  return num1 + num2 + num3 + num4\n",
        "\n",
        "print('Informe o primeiro número: ')\n",
        "num1 = int(input())\n",
        "\n",
        "print('Informe o segundo número: ')\n",
        "num2 = int(input())\n",
        "\n",
        "print('Informe o terceiro número: ')\n",
        "num3 = int(input())\n",
        "\n",
        "print('Informe o quarto número: ')\n",
        "num4 = int(input())\n",
        "\n",
        "print('O resultado da soma dos números é : ',sum(num1, num2, num3, num4))\n",
        "\n"
      ]
    },
    {
      "cell_type": "markdown",
      "metadata": {
        "id": "C-1Erhyd-JlQ"
      },
      "source": [
        "17. Faça um programa que receba três notas, calcule e mostre a média aritmética."
      ]
    },
    {
      "cell_type": "code",
      "execution_count": null,
      "metadata": {
        "colab": {
          "base_uri": "https://localhost:8080/"
        },
        "id": "3NSW0KWD-JlQ",
        "outputId": "1427d03c-fffc-4c50-e66f-2deda25e824f"
      },
      "outputs": [
        {
          "name": "stdout",
          "output_type": "stream",
          "text": [
            "Insira a primeira nota: \n",
            "7\n",
            "Insira a segunda nota: \n",
            "8\n",
            "Insira a terceira nota: \n",
            "9\n",
            "Média arimética:  8.0\n"
          ]
        }
      ],
      "source": [
        "def calculate_average(grades):\n",
        "  sum = 0\n",
        "  for grade in grades:\n",
        "      sum += grade\n",
        "\n",
        "  return sum / len(grades)\n",
        "\n",
        "grades = [0,0,0]\n",
        "\n",
        "print('Insira a primeira nota: ')\n",
        "grades[0] = float(input())\n",
        "print('Insira a segunda nota: ')\n",
        "grades[1]  = float(input())\n",
        "print('Insira a terceira nota: ')\n",
        "grades[2]  = float(input())\n",
        "\n",
        "print('Média arimética: ', calculate_average(grades))"
      ]
    },
    {
      "cell_type": "markdown",
      "metadata": {
        "id": "AnoyE4Dg-JlQ"
      },
      "source": [
        "18. Faça um programa que receba três notas e seus respectivos pesos, calcule e mostre a média ponderada."
      ]
    },
    {
      "cell_type": "code",
      "execution_count": null,
      "metadata": {
        "colab": {
          "base_uri": "https://localhost:8080/"
        },
        "id": "GR0ucZA2-JlQ",
        "outputId": "ddcd82fe-f167-4f9e-e755-c0f5ef0ee64b"
      },
      "outputs": [
        {
          "name": "stdout",
          "output_type": "stream",
          "text": [
            "Insira a 1ª nota: \n",
            "7\n",
            "Insira o peso da 1ª nota: \n",
            "1\n",
            "Insira a 2ª nota: \n",
            "6\n",
            "Insira o peso da 2ª nota: \n",
            "2\n",
            "Insira a 3ª nota: \n",
            "8\n",
            "Insira o peso da 3ª nota: \n",
            "3\n",
            "Média ponderada:  7.166666666666667\n"
          ]
        }
      ],
      "source": [
        "class Grade(object):\n",
        "  def __init__(self, grade, weigth):\n",
        "    self.grade = grade\n",
        "    self.weight = weigth\n",
        "\n",
        "def weighted_average(grades):\n",
        "  sumGrade = 0\n",
        "  sumWeight = 0\n",
        "\n",
        "  for grade in grades:\n",
        "    sumGrade += grade.grade * grade.weight\n",
        "    sumWeight += grade.weight\n",
        "\n",
        "  return sumGrade/sumWeight\n",
        "\n",
        "listGrades =[]\n",
        "\n",
        "for i in range(3):\n",
        "  print('Insira a ' + str(i+1)+ 'ª'+' nota: ')\n",
        "  gradeInput = float(input())\n",
        "  print('Insira o peso da ' + str(i+1)+ 'ª'+ ' nota: ')\n",
        "  weightInput = float(input())\n",
        "  grade = Grade(gradeInput, weightInput)\n",
        "  listGrades.append(grade)\n",
        "\n",
        "print('Média ponderada: ',weighted_average(listGrades))\n"
      ]
    },
    {
      "cell_type": "markdown",
      "metadata": {
        "id": "H0iTjmco-JlQ"
      },
      "source": [
        "19. Faça um programa que receba o salário de um funcionário, calcule e mostre o novo salário, sabendo-se que este sofreu um aumento de 25%."
      ]
    },
    {
      "cell_type": "code",
      "execution_count": null,
      "metadata": {
        "colab": {
          "base_uri": "https://localhost:8080/"
        },
        "id": "rfiVsLWZ-JlR",
        "outputId": "a4cedea8-3ccf-48e1-a03a-240260ce832c"
      },
      "outputs": [
        {
          "name": "stdout",
          "output_type": "stream",
          "text": [
            "Informe o salário: \n",
            "100\n",
            "Novo salário com 25% de aumento:  125.0\n"
          ]
        }
      ],
      "source": [
        "print('Informe o salário: ')\n",
        "wage = float(input())\n",
        "newWage = wage + wage * 0.25\n",
        "print('Novo salário com 25% de aumento: ', newWage)"
      ]
    },
    {
      "cell_type": "markdown",
      "metadata": {
        "id": "yap2ugFq-JlR"
      },
      "source": [
        "20. Faça um programa que receba o salário de um funcionário e o percentual de aumento, calcule e mostre o valor do aumento e o novo salário. "
      ]
    },
    {
      "cell_type": "code",
      "execution_count": null,
      "metadata": {
        "colab": {
          "base_uri": "https://localhost:8080/"
        },
        "id": "8ajhJbfO-JlR",
        "outputId": "551f4cc1-4f1f-4354-e3b5-472f8307d71b"
      },
      "outputs": [
        {
          "name": "stdout",
          "output_type": "stream",
          "text": [
            "Informe o salário do funcionário: \n",
            "100\n",
            "Informe o percentual de aumento do salário: \n",
            "25\n",
            "Valor do aumento:  25.0\n",
            "Novo salário:  125.0\n"
          ]
        }
      ],
      "source": [
        "def calculate_wage_increase(wage, percent):\n",
        "  return wage * percent\n",
        "\n",
        "print('Informe o salário do funcionário: ')\n",
        "wage = float(input())\n",
        "print('Informe o percentual de aumento do salário: ')\n",
        "percent = float(input())\n",
        "percent = percent/100\n",
        "\n",
        "increase = calculate_wage_increase(wage, percent)\n",
        "newWage = wage + increase\n",
        "print('Valor do aumento: ', increase)\n",
        "print('Novo salário: ', newWage)\n",
        "\n"
      ]
    },
    {
      "cell_type": "markdown",
      "metadata": {
        "id": "Hk-9Qpat-JlR"
      },
      "source": [
        "21.  Faça um programa que calcule e mostre a área de um triângulo. Sabe-se que: \n",
        "> Área = (base * altura) / 2."
      ]
    },
    {
      "cell_type": "code",
      "execution_count": 15,
      "metadata": {
        "colab": {
          "base_uri": "https://localhost:8080/"
        },
        "id": "gc2C2DtA-JlR",
        "outputId": "d183d8de-7d22-4338-e6b4-2ede8daa161e"
      },
      "outputs": [
        {
          "name": "stdout",
          "output_type": "stream",
          "text": [
            "Informe a base do triangulo: \n",
            "10\n",
            "Informe a altura do triangulo: \n",
            "5\n",
            "Área do triangulo:  25.0\n"
          ]
        }
      ],
      "source": [
        "class Triangle(object):\n",
        "  def __init__(self, base, height):\n",
        "    self.base = base\n",
        "    self.height = height\n",
        "    self.set_area()\n",
        "\n",
        "  def set_area(self):\n",
        "    self.area = (self.base * self.height) / 2\n",
        "\n",
        "print('Informe a base do triangulo: ')\n",
        "base = float(input())\n",
        "print('Informe a altura do triangulo: ')\n",
        "height = float(input())\n",
        "\n",
        "triangle = Triangle(base, height)\n",
        "\n",
        "print('Área do triangulo: ', triangle.area)"
      ]
    },
    {
      "cell_type": "markdown",
      "metadata": {
        "id": "n2teF2X0-JlR"
      },
      "source": [
        "22. Escreva um programa que receba como entrada o raio de um círculo e imprima o diâmetro, a circunferência e a área. Para isso, utilize as fórmulas: diâmetro = 2r; circunferência = 2πr, área = πr²."
      ]
    },
    {
      "cell_type": "code",
      "execution_count": 14,
      "metadata": {
        "colab": {
          "base_uri": "https://localhost:8080/"
        },
        "id": "TyfzQs-g-JlR",
        "outputId": "1ca127c5-e071-4cd0-bed3-c1dbd0491de2"
      },
      "outputs": [
        {
          "name": "stdout",
          "output_type": "stream",
          "text": [
            "Informe o raio do circulo: \n",
            "5\n",
            "Diametro:  10.0\n",
            "Circunferência:  31.41592653589793\n",
            "Area:  78.53981633974483\n"
          ]
        }
      ],
      "source": [
        "import math\n",
        "class Circle(object):\n",
        "  def __init__(self, radius):\n",
        "    self.radius = radius\n",
        "    self.set_diameter()\n",
        "    self.set_circumference()\n",
        "    self.set_area()\n",
        "\n",
        "  def set_diameter(self):\n",
        "    self.diameter = 2 * self.radius\n",
        "  def set_circumference(self):\n",
        "    self.circumference = 2 * math.pi * self.radius\n",
        "  def set_area(self):\n",
        "    self.area = math.pi * (self.radius ** 2)\n",
        "\n",
        "print('Informe o raio do circulo: ')\n",
        "radius = float(input())\n",
        "\n",
        "\n",
        "circle = Circle(radius)\n",
        "\n",
        "print('Diametro: ', circle.diameter)\n",
        "print('Circunferência: ', circle.circumference)\n",
        "print('Area: ', circle.area)"
      ]
    },
    {
      "cell_type": "markdown",
      "metadata": {
        "id": "v7jg2ui6-JlR"
      },
      "source": [
        "23. Faça um programa que receba um número positivo e maior que zero, calcule e mostre:\n",
        "    1. o número digitado ao quadrado;\n",
        "    2. o número digitado ao cubo;\n",
        "    3. a raiz quadrada do número digitado."
      ]
    },
    {
      "cell_type": "code",
      "execution_count": null,
      "metadata": {
        "colab": {
          "base_uri": "https://localhost:8080/"
        },
        "id": "XoTm4eyW-JlR",
        "outputId": "bc6ce8fb-ba1b-4882-e13a-ef7ea842c527"
      },
      "outputs": [
        {
          "name": "stdout",
          "output_type": "stream",
          "text": [
            "Informe um número positivo: \n",
            "2\n",
            "Número digitado ao quadrado:  4.0\n",
            "Número digitado ao cubo:  8.0\n",
            "Raiz quadrada do número digitado:  1.4142135623730951\n"
          ]
        }
      ],
      "source": [
        "import math\n",
        "\n",
        "print('Informe um número positivo: ')\n",
        "num = int(input())\n",
        "\n",
        "if num > 0:\n",
        "  print('Número digitado ao quadrado: ', math.pow(num,2))\n",
        "  print('Número digitado ao cubo: ', math.pow(num, 3))\n",
        "  print('Raiz quadrada do número digitado: ', math.sqrt(num))\n",
        "else:\n",
        "  print('O número digitado não é maior que 0')"
      ]
    },
    {
      "cell_type": "markdown",
      "metadata": {
        "id": "AAf1rahS-JlR"
      },
      "source": [
        "24. Faça um programa que receba dois números maiores que zero, calcule e mostre um elevado ao outro."
      ]
    },
    {
      "cell_type": "code",
      "execution_count": null,
      "metadata": {
        "colab": {
          "base_uri": "https://localhost:8080/"
        },
        "id": "oqnWeAh9-JlS",
        "outputId": "2105fec4-ab04-4559-fe00-ffc17d1ceaa2"
      },
      "outputs": [
        {
          "name": "stdout",
          "output_type": "stream",
          "text": [
            "Informe um número positivo: \n",
            "2\n",
            "Informe outro número positivo: \n",
            "3\n",
            "Número 2 elevado ao número 3 :  8.0\n"
          ]
        }
      ],
      "source": [
        "import math\n",
        "\n",
        "print('Informe um número positivo: ')\n",
        "num1 = int(input())\n",
        "\n",
        "print('Informe outro número positivo: ')\n",
        "num2 = int(input())\n",
        "\n",
        "\n",
        "if num1 > 0 and num2 > 0:\n",
        "  print('Número ' + str(num1) + ' elevado ao número ' + str(num2) +' : ', math.pow(num1,num2))\n",
        " \n",
        "else:\n",
        "  print('Um dos números digitados não é maior que 0')"
      ]
    },
    {
      "cell_type": "markdown",
      "metadata": {
        "id": "IW9y0V6X-JlS"
      },
      "source": [
        "25. Sabe-se que: pé = 12 polegadas; 1 jarda = 3 pés e 1 milha = 1,760 jarda. Faça um programa que receba uma medida em pés, faça as conversões a seguir e mostre os resultados.\n",
        "    1. polegadas;\n",
        "    2. jardas;\n",
        "    3. milhas."
      ]
    },
    {
      "cell_type": "code",
      "execution_count": null,
      "metadata": {
        "colab": {
          "base_uri": "https://localhost:8080/"
        },
        "id": "KeRWoYT--JlS",
        "outputId": "8e5afc58-28fa-49bd-8d04-968c52b0c0da"
      },
      "outputs": [
        {
          "name": "stdout",
          "output_type": "stream",
          "text": [
            "Informe a quantidade de pés para conversão: \n",
            "5\n",
            "Polegadas 60\n",
            "Jardas 1.6666666666666667\n",
            "Milhas 0.000946969696969697\n"
          ]
        }
      ],
      "source": [
        "def unit_converter(feet):\n",
        "  dict = {\n",
        "      'Polegadas' : feet * 12,\n",
        "      'Jardas' : feet / 3,\n",
        "      'Milhas' : feet / 5280\n",
        "  }\n",
        "  return dict\n",
        "\n",
        "print('Informe a quantidade de pés para conversão: ')\n",
        "feet = int(input())\n",
        "\n",
        "dict = unit_converter(feet)\n",
        "\n",
        "for key, value in dict.items():\n",
        "    print(key, value)"
      ]
    },
    {
      "cell_type": "markdown",
      "metadata": {
        "id": "XNkZvsP2-JlS"
      },
      "source": [
        "26. Escreva um programa que receba como entrada um número de 5 dígitos, separe o número em dígitos individuais e os imprima separados por 3 espaços cada um. Por exemplo, se o usuário digitar 42339, o programa deverá imprimir: 4    2    3    3.   Dica: utilize as operações de divisão e módulo para extrair cada dígito do número."
      ]
    },
    {
      "cell_type": "code",
      "execution_count": null,
      "metadata": {
        "colab": {
          "base_uri": "https://localhost:8080/"
        },
        "id": "Krz9hpsM-JlS",
        "outputId": "8a26c221-e675-493b-cc0e-773d2d16596b"
      },
      "outputs": [
        {
          "name": "stdout",
          "output_type": "stream",
          "text": [
            "Informe um número com 5 digitos: \n",
            "42339\n",
            " 4 2 3 3 9\n"
          ]
        }
      ],
      "source": [
        "print('Informe um número com 5 digitos: ')\n",
        "num = int(input())\n",
        "numList = ''\n",
        "while num > 0:\n",
        "  numList += str(num % 10) + ' '\n",
        "  num = num // 10\n",
        "\n",
        "print(numList[::-1])"
      ]
    },
    {
      "cell_type": "markdown",
      "metadata": {
        "id": "5_04RL-y-JlS"
      },
      "source": [
        "27.  A nota final de um estudante é calculada a partir de três notas atribuídas, respectivamente, a um trabalho\n",
        "de laboratório, a uma avaliação semestral e a um exame final. A média das três notas mencionadas\n",
        "obedece aos pesos a seguir:\n",
        "\n",
        "| Nota                    | Peso |\n",
        "|-------------------------|------|\n",
        "| Trabalho de Laboratório | 2    |\n",
        "| Avaliação Semestral     | 3    |\n",
        "| Exame Final             | 5    |\n",
        "\n",
        "\n",
        "Faça um programa que receba as três notas, calcule e mostre a média ponderada e o conceito que segue\n",
        "a tabela:\n",
        "\n",
        "| Média Ponderada        | Conceito |\n",
        "|------------------------|----------|\n",
        "| 8,00 <= Média <= 10,00 | A        |\n",
        "| 7,00 <= Média < 8,00   | B        |\n",
        "| 6,00 <= Média < 7,00   | C        |\n",
        "| 5,00 <= Média < 6,00   | D        |\n",
        "| 0,00 <= Média < 5,00   | E        |"
      ]
    },
    {
      "cell_type": "code",
      "execution_count": null,
      "metadata": {
        "colab": {
          "base_uri": "https://localhost:8080/"
        },
        "id": "KKGycvMf-JlS",
        "outputId": "8253ae3c-1ecd-4a71-e74c-1f600ee3f824"
      },
      "outputs": [
        {
          "name": "stdout",
          "output_type": "stream",
          "text": [
            "Trabalho de Laboratório Nota: \n",
            "7\n",
            "Avaliação Semestral: Nota: \n",
            "5\n",
            "Exame Final Nota: \n",
            "9\n",
            "Média Ponderada: 7.4 Conceito: B\n"
          ]
        }
      ],
      "source": [
        "class Grade(object):\n",
        "  def __init__(self, grade, weigth):\n",
        "    self.grade = grade\n",
        "    self.weight = weigth\n",
        "\n",
        "def weighted_average(grades):\n",
        "  sumGrade = 0\n",
        "  sumWeight = 0\n",
        "\n",
        "  for grade in grades:\n",
        "    sumGrade += grade.grade * grade.weight\n",
        "    sumWeight += grade.weight\n",
        "\n",
        "  return sumGrade/sumWeight\n",
        "\n",
        "def print_concept(average):\n",
        "  if average >= 8:\n",
        "    print('Média Ponderada: ' + str(average) + ' Conceito: A')\n",
        "  elif average >= 7:\n",
        "    print('Média Ponderada: ' + str(average) + ' Conceito: B')\n",
        "  elif average >= 6:\n",
        "    print('Média Ponderada: ' + str(average) + ' Conceito: C')\n",
        "  elif average >= 5:\n",
        "    print('Média Ponderada: ' + str(average) + ' Conceito: D')\n",
        "  else :\n",
        "    print('Média Ponderada: ' + str(average) + ' Conceito: E')\n",
        "\n",
        "examsWeight = {\n",
        "    'Trabalho de Laboratório' : 2,\n",
        "    'Avaliação Semestral:' : 3,\n",
        "    'Exame Final' : 5\n",
        "}\n",
        "\n",
        "listGrades =[]\n",
        "\n",
        "for key, value in examsWeight.items():\n",
        "\n",
        "    print(key + ' Nota: ')\n",
        "    gradeExam = float(input())\n",
        "    weight = value\n",
        "    listGrades.append(Grade(gradeExam, weight))\n",
        "\n",
        "print_concept(weighted_average(listGrades))\n"
      ]
    },
    {
      "cell_type": "markdown",
      "metadata": {
        "id": "gLndLfQk-JlS"
      },
      "source": [
        "28. Faça um programa que receba três notas de um aluno, calcule e mostre a média aritmética e a mensagem constante na tabela a seguir. \n",
        "\n",
        "| Média                  | Situação       |\n",
        "|------------------------|----------------|\n",
        "| 7,00 <= Média <= 10,00 | Aprovado       |\n",
        "| 3,00 <= Média < 7,00   | Exame Especial |\n",
        "| 0,00 <= Média < 3,00   | Reprovado      |"
      ]
    },
    {
      "cell_type": "code",
      "execution_count": null,
      "metadata": {
        "colab": {
          "base_uri": "https://localhost:8080/"
        },
        "id": "_ACKWa8X-JlS",
        "outputId": "0e598cda-2606-4a41-dca0-33472cbe873b"
      },
      "outputs": [
        {
          "name": "stdout",
          "output_type": "stream",
          "text": [
            "Insira a 1ª nota: \n",
            "7\n",
            "Insira a 2ª nota: \n",
            "8\n",
            "Insira a 3ª nota: \n",
            "9\n",
            "Média: 8.0 Aprovado\n"
          ]
        }
      ],
      "source": [
        "def print_average(average):\n",
        "  if average >= 7:\n",
        "    print('Média: ' + str(average) + ' Aprovado')\n",
        "  elif average >= 3:\n",
        "    print('Média: ' + str(average) + ' Exame  Especial')\n",
        "  else:\n",
        "    print('Média: ' + str(average) + ' Reprovado')\n",
        "\n",
        "average = 0 \n",
        "\n",
        "for i in range(3):\n",
        "  print('Insira a ' + str(i+1)+ 'ª'+' nota: ')\n",
        "  average += float(input())\n",
        "\n",
        "\n",
        "average /= 3\n",
        "\n",
        "print_average(average)\n"
      ]
    },
    {
      "cell_type": "markdown",
      "metadata": {
        "id": "-lxZq1EP-JlT"
      },
      "source": [
        "29. Faça um programa para resolver equações do 2º grau.\n",
        "\n",
        "$$\n",
        "a^{2} + bx + c = 0\n",
        "$$\n",
        "\n",
        "\n",
        "Onde x é uma variável, sendo a, b e c constantes, com a ≠ 0 \n",
        "\n",
        "\n",
        "$$\n",
        "\\Delta = b^{2} - 4ac\n",
        "$$\n",
        "\n",
        "$$\n",
        "\\Delta < 0 \\rightarrow não \\: existe  \\: raiz  \\: real\n",
        "$$\n",
        "\n",
        "$$\n",
        "\\Delta = 0 \\rightarrow  existe  \\: raiz  \\: real\n",
        "$$\n",
        "\n",
        "$$\n",
        "x = \\frac{-b}{2a}\n",
        "$$\n",
        "\n",
        "\n",
        "\n",
        "$$\n",
        "\\Delta > 0 \\rightarrow existem \\: duas  \\: raizes  \\: reais\n",
        "$$\n",
        "\n",
        "\n",
        "$$\n",
        "x_1 = \\frac{-b \\: + \\: \\sqrt{\\Delta } }{2a}\n",
        "$$\n",
        "\n",
        "$$\n",
        "x_2 = \\frac{-b \\: - \\: \\sqrt{\\Delta } }{2a}\n",
        "$$"
      ]
    },
    {
      "cell_type": "code",
      "execution_count": null,
      "metadata": {
        "colab": {
          "base_uri": "https://localhost:8080/"
        },
        "id": "qJBMTEr4-JlT",
        "outputId": "7a6419eb-c27d-4727-b1c5-7e2ce71e758a"
      },
      "outputs": [
        {
          "name": "stdout",
          "output_type": "stream",
          "text": [
            "Informe o valor de A: \n",
            "1\n",
            "Informe o valor de B: \n",
            "2\n",
            "Informe o valor de C: \n",
            "-24\n",
            "Delta > 0, portanto existem duas raizes reais  X1 = 4.0  X2 = -6.0\n"
          ]
        }
      ],
      "source": [
        "import math\n",
        "import sys\n",
        "def get_delta(b,a,c):\n",
        "  return b**2 - 4 * a * c\n",
        "\n",
        "print('Informe o valor de A: ')\n",
        "a = float(input())\n",
        "if a == 0:\n",
        "  print('A deve ser diferente de 0, o programa será encerrado')\n",
        "  sys.exit()\n",
        "\n",
        "print('Informe o valor de B: ')\n",
        "b = float(input())\n",
        "\n",
        "print('Informe o valor de C: ')\n",
        "c = float(input())\n",
        "\n",
        "delta = get_delta(b,a,c)\n",
        "\n",
        "if delta < 0:\n",
        "  print('Delta < 0, portanto não existe raiz real!')\n",
        "elif delta == 0:\n",
        "  x = -b / 2*a\n",
        "  print(\"Delta = 0, portanto existe raiz real  X = \" + str(x))\n",
        "else:\n",
        "  x1 = (-b + math.sqrt(delta) ) / 2*a\n",
        "  x2 = (-b - math.sqrt(delta) ) / 2*a\n",
        "  print(\"Delta > 0, portanto existem duas raizes reais  X1 = \" + str(x1) + '  X2 = '+ str(x2))\n"
      ]
    },
    {
      "cell_type": "markdown",
      "metadata": {
        "id": "tsqgrXiI-JlT"
      },
      "source": [
        "30. Faça um programa que receba vários números, calcule e mostre:\n",
        "\n",
        "    - A soma dos números digitados;\n",
        "    - A quantidade de números digitados;\n",
        "    - A média dos números digitados;\n",
        "    - O maior número digitado;\n",
        "    - O menor número digitado;\n",
        "    - A média dos números pares;\n",
        "    - A porcentagem dos números ímpares entre todos os números digitados.\n",
        "\n",
        "Finalize a entrada de dados com a digitação do número 0."
      ]
    },
    {
      "cell_type": "code",
      "execution_count": 7,
      "metadata": {
        "colab": {
          "base_uri": "https://localhost:8080/"
        },
        "id": "DvldWFW--JlT",
        "outputId": "5914b298-1c08-4d3c-b060-e36330f0ac85"
      },
      "outputs": [
        {
          "name": "stdout",
          "output_type": "stream",
          "text": [
            "Insira um número diferente de 0: \n",
            "2\n",
            "Insira um número diferente de 0: \n",
            "4\n",
            "Insira um número diferente de 0: \n",
            "5\n",
            "Insira um número diferente de 0: \n",
            "8\n",
            "Insira um número diferente de 0: \n",
            "0\n",
            "Calculando resultados.....\n",
            "\n",
            "A soma dos números digitados:  19.0\n",
            "A quantidade de números digitados:  4\n",
            "A média dos números digitados:  4.75\n",
            "O maior número digitado:  8.0\n",
            "O menor número digitado:  2.0\n",
            "A média dos números pares:  4.666666666666667\n",
            "A porcentagem dos números ímpares entre todos os números digitados: 25 % \n"
          ]
        }
      ],
      "source": [
        "import sys\n",
        "def analisa_numeros(numeros):\n",
        "  count = 0\n",
        "  sum = 0\n",
        "  pairSum = 0\n",
        "  pairCount = 0\n",
        "  oddCount = 0\n",
        "  larger = sys.float_info.min\n",
        "  smaller = sys.float_info.max\n",
        "\n",
        "  for i in range(len(numeros)):\n",
        "   sum += numeros[i]\n",
        "   count += 1\n",
        "   #Verificação  do maior\n",
        "   if numeros[i] > larger:\n",
        "        larger = numeros[i]\n",
        "   #Verificação do menor\n",
        "   if numeros[i] < smaller:\n",
        "        smaller = numeros[i]\n",
        "   #Checando se o número é par ou impar\n",
        "   if numeros[i] % 2 == 0:\n",
        "        pairSum += numeros[i]\n",
        "        pairCount += 1\n",
        "   else:\n",
        "        oddCount += 1\n",
        "\n",
        "  print('A soma dos números digitados: ',sum)\n",
        "  print('A quantidade de números digitados: ',count)\n",
        "  print('A média dos números digitados: ',sum/count)\n",
        "  print('O maior número digitado: ',larger)\n",
        "  print('O menor número digitado: ',smaller)\n",
        "  print('A média dos números pares: ',pairSum / pairCount)\n",
        "  print('A porcentagem dos números ímpares entre todos os números digitados: {:.0f} % '.format(oddCount / count * 100))\n",
        "\n",
        "\n",
        "\n",
        "listaNumeros = []\n",
        "while True:\n",
        "  print('Insira um número diferente de 0: ')\n",
        "  numero = float(input())\n",
        "\n",
        "  if numero == 0:\n",
        "    print('Calculando resultados.....\\n')\n",
        "    analisa_numeros(listaNumeros)\n",
        "    break\n",
        "  listaNumeros.append(numero)"
      ]
    },
    {
      "cell_type": "markdown",
      "metadata": {
        "id": "-eg33Cnc-JlT"
      },
      "source": [
        "31. Foi realizada uma pesquisa sobre algumas características físicas dos habitantes de uma região. Foram coletados os seguintes dados de cada habitante: sexo, cor dos olhos (A — azuis; ou C — castanhos), cor dos cabelos (L — louros; P — pretos; ou C — castanhos) e idade. Implemente os seguintes métodos:\n",
        "\n",
        "    1. `leia_dados()`: leia esses dados, armazene e retorne os dados em uma lista;\n",
        "    2. `media_idades(dados)`: calcula e retorne a média de idade das pessoas com olhos castanhos e cabelos pretos;\n",
        "    3. `maior_idade(dados)`: determina e retorne a maior idade entre os habitantes;\n",
        "    4. `frequencia_individuos(dados)`: calcula e retorna a quantidade de indivíduos do sexo feminino com idade entre 18 e 35 anos (inclusive) e que tenham olhos azuis e cabelos louros."
      ]
    },
    {
      "cell_type": "code",
      "execution_count": 5,
      "metadata": {
        "colab": {
          "base_uri": "https://localhost:8080/"
        },
        "id": "0d_Y3BCW-JlT",
        "outputId": "13a85e66-c9a6-456e-e8e8-cc40407a0ad1"
      },
      "outputs": [
        {
          "name": "stdout",
          "output_type": "stream",
          "text": [
            "Informe a quantidade de habitantes a serem catalogadas: \n",
            "4\n",
            "Informe o sexo do 1º habitante(1: Masculino , 2: Feminino): \n",
            "2\n",
            "Informe a cor dos olhos do 1º habitante (1: Castanho, 2: Azul): \n",
            "2\n",
            "Informe a cor do cabelo  do 1º habitante (1: Loiro, 2:Preto, 3:Castanho): \n",
            "1\n",
            "Informe a idade  do 1º habitante: \n",
            "22\n",
            "Informe o sexo do 2º habitante(1: Masculino , 2: Feminino): \n",
            "2\n",
            "Informe a cor dos olhos do 2º habitante (1: Castanho, 2: Azul): \n",
            "2\n",
            "Informe a cor do cabelo  do 2º habitante (1: Loiro, 2:Preto, 3:Castanho): \n",
            "1\n",
            "Informe a idade  do 2º habitante: \n",
            "28\n",
            "Informe o sexo do 3º habitante(1: Masculino , 2: Feminino): \n",
            "1\n",
            "Informe a cor dos olhos do 3º habitante (1: Castanho, 2: Azul): \n",
            "1\n",
            "Informe a cor do cabelo  do 3º habitante (1: Loiro, 2:Preto, 3:Castanho): \n",
            "2\n",
            "Informe a idade  do 3º habitante: \n",
            "40\n",
            "Informe o sexo do 4º habitante(1: Masculino , 2: Feminino): \n",
            "1\n",
            "Informe a cor dos olhos do 4º habitante (1: Castanho, 2: Azul): \n",
            "1\n",
            "Informe a cor do cabelo  do 4º habitante (1: Loiro, 2:Preto, 3:Castanho): \n",
            "2\n",
            "Informe a idade  do 4º habitante: \n",
            "80\n",
            "Média de idade das pessoas com olhos castanhos e cabelos pretos:  60.0\n",
            "Maior idade entre os habitantes:  80\n",
            "Quantidade de indivíduos do sexo feminino com idade entre 18 e 35 anos (inclusive) e que tenham olhos azuis e cabelos louros:  2\n"
          ]
        }
      ],
      "source": [
        "# Testando enum\n",
        "from enum import Enum\n",
        "import sys\n",
        "\n",
        "\n",
        "class EyeColor(Enum):\n",
        "    CASTANHO = 1\n",
        "    AZUL = 2\n",
        "\n",
        "class HairColor(Enum):\n",
        "    LOIRO = 1\n",
        "    PRETO = 2\n",
        "    CASTANHO = 3\n",
        "\n",
        "\n",
        "class Sex(Enum):\n",
        "    MASCULINO = 1\n",
        "    FEMININO = 2\n",
        "\n",
        "\n",
        "class Resident(object):\n",
        "    def __init__(self, eyeColor, hairColor, age, sex):\n",
        "        self.eyeColor = EyeColor(int(eyeColor))\n",
        "        self.hairColor = HairColor(int(hairColor))\n",
        "        self.age = age\n",
        "        self.sex = Sex(int(sex))\n",
        "\n",
        "\n",
        "def read_data(amount):\n",
        "    listResident = []\n",
        "    for i in range(amount):\n",
        "        print('Informe o sexo do ' + str(i + 1) + 'º habitante(1: Masculino , 2: Feminino): ')\n",
        "        sex = int(input())\n",
        "        print('Informe a cor dos olhos do ' + str(i + 1) + 'º habitante (1: Castanho, 2: Azul): ')\n",
        "        eyeColor = int(input())\n",
        "        print('Informe a cor do cabelo  do ' + str(i + 1) + 'º habitante (1: Loiro, 2:Preto, 3:Castanho): ')\n",
        "        hairColor = int(input())\n",
        "        print('Informe a idade  do ' + str(i + 1) + 'º habitante: ')\n",
        "        age = int(input())\n",
        "        listResident.append(Resident(eyeColor, hairColor, age, sex))\n",
        "    return listResident\n",
        "\n",
        "\n",
        "# media_idades(dados): calcula e retorne a média de idade das pessoas com olhos castanhos e cabelos pretos;\n",
        "def age_average(listResident):\n",
        "    sumAge = 0;\n",
        "    count = 0;\n",
        "    for resident in listResident:\n",
        "        if resident.eyeColor == EyeColor.CASTANHO and resident.hairColor == HairColor.PRETO:\n",
        "            sumAge += resident.age\n",
        "            count += 1\n",
        "    if count > 0:\n",
        "        return sumAge / count\n",
        "    else :\n",
        "        return 0\n",
        "\n",
        "\n",
        "# maior_idade(dados): determina e retorne a maior idade entre os habitantes;\n",
        "def larger_age(listResident):\n",
        "    largerAge = sys.float_info.min\n",
        "\n",
        "    for resident in listResident:\n",
        "        if resident.age > largerAge:\n",
        "            largerAge = resident.age\n",
        "\n",
        "    return largerAge\n",
        "\n",
        "\n",
        "# frequencia_individuos(dados): calcula e retorna a quantidade de indivíduos do sexo feminino com idade entre 18 e 35 anos (inclusive) e que tenham olhos azuis e cabelos louros\n",
        "def individuals_frequency(listResident):\n",
        "    individuals = 0\n",
        "    for resident in listResident:\n",
        "        if resident.sex == Sex.FEMININO and resident.age >= 18 and resident.age <= 35 and resident.eyeColor == EyeColor.AZUL and resident.hairColor == HairColor.LOIRO:\n",
        "            individuals += 1\n",
        "\n",
        "    return individuals\n",
        "\n",
        "\n",
        "# Main\n",
        "print('Informe a quantidade de habitantes a serem catalogadas: ')\n",
        "amount = int(input())\n",
        "listResident = read_data(amount)\n",
        "\n",
        "print('Média de idade das pessoas com olhos castanhos e cabelos pretos: ', age_average(listResident))\n",
        "print('Maior idade entre os habitantes: ', larger_age(listResident))\n",
        "print('Quantidade de indivíduos do sexo feminino com idade entre 18 e 35 anos (inclusive) e que tenham olhos azuis e cabelos louros: ',individuals_frequency(listResident))\n"
      ]
    },
    {
      "cell_type": "markdown",
      "metadata": {
        "id": "op6YiZpX-JlT"
      },
      "source": [
        "32. Faça o método `analisa_numeros(numeros)` que receba uma lista de números como parâmetro, calcule e mostre:\n",
        "\n",
        "    1. A Soma dos números;\n",
        "    2. A quantidade de números;\n",
        "    3. A média dos números;\n",
        "    4. O maior número;\n",
        "    5. O menor número;\n",
        "    6. A média dos números pares;\n",
        "    7. A porcentagem dos números ímpares entre todos os números da lista."
      ]
    },
    {
      "cell_type": "code",
      "execution_count": 8,
      "metadata": {
        "colab": {
          "base_uri": "https://localhost:8080/"
        },
        "id": "Q0luJwMP-JlT",
        "outputId": "372f50b3-bb9a-4033-acb9-e55f66fc5745"
      },
      "outputs": [
        {
          "name": "stdout",
          "output_type": "stream",
          "text": [
            "Insira um número diferente de 0: \n",
            "2\n",
            "Insira um número diferente de 0: \n",
            "4\n",
            "Insira um número diferente de 0: \n",
            "5\n",
            "Insira um número diferente de 0: \n",
            "8\n",
            "Insira um número diferente de 0: \n",
            "0\n",
            "Calculando resultados.....\n",
            "\n",
            "A soma dos números digitados:  19.0\n",
            "A quantidade de números digitados:  4\n",
            "A média dos números digitados:  4.75\n",
            "O maior número digitado:  8.0\n",
            "O menor número digitado:  2.0\n",
            "A média dos números pares:  4.666666666666667\n",
            "A porcentagem dos números ímpares entre todos os números digitados: 25 % \n"
          ]
        }
      ],
      "source": [
        "import sys\n",
        "def analisa_numeros(numeros):\n",
        "  count = 0\n",
        "  sum = 0\n",
        "  pairSum = 0\n",
        "  pairCount = 0\n",
        "  oddCount = 0\n",
        "  larger = sys.float_info.min\n",
        "  smaller = sys.float_info.max\n",
        "\n",
        "  for i in range(len(numeros)):\n",
        "   sum += numeros[i]\n",
        "   count += 1\n",
        "   #Verificação  do maior\n",
        "   if numeros[i] > larger:\n",
        "        larger = numeros[i]\n",
        "   #Verificação do menor\n",
        "   if numeros[i] < smaller:\n",
        "        smaller = numeros[i]\n",
        "   #Checando se o número é par ou impar\n",
        "   if numeros[i] % 2 == 0:\n",
        "        pairSum += numeros[i]\n",
        "        pairCount += 1\n",
        "   else:\n",
        "        oddCount += 1\n",
        "\n",
        "  print('A soma dos números digitados: ',sum)\n",
        "  print('A quantidade de números digitados: ',count)\n",
        "  print('A média dos números digitados: ',sum/count)\n",
        "  print('O maior número digitado: ',larger)\n",
        "  print('O menor número digitado: ',smaller)\n",
        "  print('A média dos números pares: ',pairSum / pairCount)\n",
        "  print('A porcentagem dos números ímpares entre todos os números digitados: {:.0f} % '.format(oddCount / count * 100))\n",
        "\n",
        "\n",
        "\n",
        "listaNumeros = []\n",
        "while True:\n",
        "  print('Insira um número diferente de 0: ')\n",
        "  numero = float(input())\n",
        "\n",
        "  if numero == 0:\n",
        "    print('Calculando resultados.....\\n')\n",
        "    analisa_numeros(listaNumeros)\n",
        "    break\n",
        "  listaNumeros.append(numero)"
      ]
    },
    {
      "cell_type": "markdown",
      "metadata": {
        "id": "1z0LJYp6-JlT"
      },
      "source": [
        "33. Uma empresa quer transmitir dados pelo telefone, mas está preocupada com a interceptação telefônica. Todos os seus dados são transmitidos  como inteiros de quatro dígitos. Ela pediu para que você escreva um programa que criptografe seus dados, para que eles possam ser transmitidos com mais segurança. Implemente a função `criptogra(numero)` que receba como parâmetro um número inteiro de quatro dígitos e criptografe-o da seguinte forma: \n",
        "\n",
        "    * Substitua cada um dos dígitos do número usando a seguinte fórmula: `(digito +  7) módulo 10`; \n",
        "    * Após a substituição, troque o primeiro dígito pelo terceiro e troque o segundo dígito pelo quarto;\n",
        "    * Retorne o número inteiro criptografado."
      ]
    },
    {
      "cell_type": "code",
      "execution_count": 2,
      "metadata": {
        "colab": {
          "base_uri": "https://localhost:8080/"
        },
        "id": "XMj12Ckq-JlT",
        "outputId": "e389ddfc-7fa0-430b-8809-d5af73ee8e47"
      },
      "outputs": [
        {
          "name": "stdout",
          "output_type": "stream",
          "text": [
            "Informe um número de 4 digitos: \n",
            "1234\n",
            "O número criptografado é : 0189\n"
          ]
        }
      ],
      "source": [
        "def encrypt(numero):\n",
        "    if len(str(numero)) == 4:\n",
        "        aux = ''\n",
        "        for digit in str(numero):\n",
        "            aux += str((int(digit) + 7) % 10)\n",
        "\n",
        "        encrypted = aux[2] + aux[3] + aux[0] + aux[1]\n",
        "        return encrypted;\n",
        "    else:\n",
        "        return 'invalid number'\n",
        "\n",
        "\n",
        "print('Informe um número de 4 digitos: ')\n",
        "number = int(input())\n",
        "\n",
        "encrypted = encrypt(number)\n",
        "\n",
        "print('O número criptografado é :',encrypted)"
      ]
    }
  ],
  "metadata": {
    "colab": {
      "collapsed_sections": [],
      "include_colab_link": true,
      "name": "exercicios-python[1].ipynb",
      "provenance": []
    },
    "kernelspec": {
      "display_name": "Python 3",
      "language": "python",
      "name": "python3"
    },
    "language_info": {
      "codemirror_mode": {
        "name": "ipython",
        "version": 3
      },
      "file_extension": ".py",
      "mimetype": "text/x-python",
      "name": "python",
      "nbconvert_exporter": "python",
      "pygments_lexer": "ipython3",
      "version": "3.8.10"
    }
  },
  "nbformat": 4,
  "nbformat_minor": 0
}
